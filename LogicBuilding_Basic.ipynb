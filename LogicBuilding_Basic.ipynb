{
 "cells": [
  {
   "cell_type": "code",
   "execution_count": 2,
   "id": "d3e7d967-9b63-458f-8da0-e90abb1d80ce",
   "metadata": {},
   "outputs": [],
   "source": [
    "#Advance pattern Question"
   ]
  },
  {
   "cell_type": "code",
   "execution_count": 3,
   "id": "2ff24941-e5e4-4552-81f4-32c418c3a428",
   "metadata": {},
   "outputs": [],
   "source": [
    "#Pascel Triange"
   ]
  },
  {
   "cell_type": "code",
   "execution_count": 37,
   "id": "31a87a12-731e-4878-965d-9821b2e69a8f",
   "metadata": {},
   "outputs": [
    {
     "name": "stdout",
     "output_type": "stream",
     "text": [
      "    1\n",
      "   122\n",
      "  12332\n",
      " 1234432\n",
      "123455432\n"
     ]
    }
   ],
   "source": [
    "n=5\n",
    "for i in range(0,n):\n",
    "    x=n-i-1\n",
    "    for j in range(0,x):\n",
    "        print(\" \",end=\"\")\n",
    "    block=(2*i+1)/2\n",
    "    w=1\n",
    "    for k in range(0,2*i+1):\n",
    "        \n",
    "        if k<block:\n",
    "            print(w,end=\"\")\n",
    "            w+=1\n",
    "        elif k==block:\n",
    "            w-=2\n",
    "        else:\n",
    "           w-=1\n",
    "           print(w,end=\"\")\n",
    "        \n",
    "    print()"
   ]
  },
  {
   "cell_type": "code",
   "execution_count": 42,
   "id": "9f458be4-1695-48d3-906e-0cafd1dab172",
   "metadata": {},
   "outputs": [
    {
     "data": {
      "text/plain": [
       "4"
      ]
     },
     "execution_count": 42,
     "metadata": {},
     "output_type": "execute_result"
    }
   ],
   "source": [
    "num=1254\n",
    "import math\n",
    "int(math.log10(num)+1)"
   ]
  },
  {
   "cell_type": "code",
   "execution_count": 44,
   "id": "df9932b5-bd84-476f-98f6-24ae01839c6e",
   "metadata": {},
   "outputs": [
    {
     "name": "stdout",
     "output_type": "stream",
     "text": [
      "1 2 3 "
     ]
    }
   ],
   "source": [
    "l=[1,22,222]\n",
    "for i in l:\n",
    "    print(int(math.log10(i)+1),end=\" \")"
   ]
  },
  {
   "cell_type": "code",
   "execution_count": 45,
   "id": "4a58446d-768d-4969-a023-ac46f79e54a5",
   "metadata": {},
   "outputs": [],
   "source": [
    "def prim(n):\n",
    "    if n<=1:\n",
    "        return False\n",
    "    for i in range(2,n//2):\n",
    "        if n%i==0:\n",
    "            return False\n",
    "    return True"
   ]
  },
  {
   "cell_type": "code",
   "execution_count": 46,
   "id": "d9be2e8f-c329-4a65-b911-6f4a2e04e0f5",
   "metadata": {},
   "outputs": [
    {
     "data": {
      "text/plain": [
       "True"
      ]
     },
     "execution_count": 46,
     "metadata": {},
     "output_type": "execute_result"
    }
   ],
   "source": [
    "prim(2)"
   ]
  },
  {
   "cell_type": "code",
   "execution_count": 48,
   "id": "6b19331e-422a-4b02-8030-03155a4de56e",
   "metadata": {},
   "outputs": [
    {
     "data": {
      "text/plain": [
       "True"
      ]
     },
     "execution_count": 48,
     "metadata": {},
     "output_type": "execute_result"
    }
   ],
   "source": [
    "prim(7)"
   ]
  },
  {
   "cell_type": "code",
   "execution_count": 52,
   "id": "e1a45231-53f7-4ca4-bedc-4ebdf4d63634",
   "metadata": {},
   "outputs": [
    {
     "data": {
      "text/plain": [
       "'321'"
      ]
     },
     "execution_count": 52,
     "metadata": {},
     "output_type": "execute_result"
    }
   ],
   "source": [
    "x=123\n",
    "str(123)[::-1]"
   ]
  },
  {
   "cell_type": "code",
   "execution_count": 58,
   "id": "76649916-a533-4b8d-adba-3de31ae98b1d",
   "metadata": {},
   "outputs": [],
   "source": [
    "def rev(num):\n",
    "    rev=0\n",
    "    while num:\n",
    "        x=num%10\n",
    "        rev=rev*10+x\n",
    "        num=num//10\n",
    "    return rev\n",
    "    \n",
    "    "
   ]
  },
  {
   "cell_type": "code",
   "execution_count": 60,
   "id": "b3965986-5f4f-4d68-87dc-b9872c1255cd",
   "metadata": {},
   "outputs": [
    {
     "data": {
      "text/plain": [
       "1021"
      ]
     },
     "execution_count": 60,
     "metadata": {},
     "output_type": "execute_result"
    }
   ],
   "source": [
    "rev(12010)"
   ]
  },
  {
   "cell_type": "code",
   "execution_count": 55,
   "id": "b4a240fd-f31e-4011-80b6-cf78dfa98e1b",
   "metadata": {},
   "outputs": [
    {
     "data": {
      "text/plain": [
       "5"
      ]
     },
     "execution_count": 55,
     "metadata": {},
     "output_type": "execute_result"
    }
   ],
   "source": [
    "5"
   ]
  },
  {
   "cell_type": "code",
   "execution_count": 67,
   "id": "2c4b4078-904e-4c8c-86ae-dfcd6d69844c",
   "metadata": {},
   "outputs": [],
   "source": [
    "d=[]\n",
    "x=8\n",
    "for i in range(1,x+1):\n",
    "    if x%i==0:\n",
    "        d.append(i)\n",
    "    "
   ]
  },
  {
   "cell_type": "code",
   "execution_count": 68,
   "id": "3adfb3a4-89a0-4a58-ade6-255d0f5946ba",
   "metadata": {},
   "outputs": [
    {
     "data": {
      "text/plain": [
       "[1, 2, 4, 8]"
      ]
     },
     "execution_count": 68,
     "metadata": {},
     "output_type": "execute_result"
    }
   ],
   "source": [
    "d"
   ]
  },
  {
   "cell_type": "code",
   "execution_count": 72,
   "id": "3f6fbc9e-a428-4a3d-9ec6-4d4ddc4481b7",
   "metadata": {},
   "outputs": [
    {
     "data": {
      "text/plain": [
       "2"
      ]
     },
     "execution_count": 72,
     "metadata": {},
     "output_type": "execute_result"
    }
   ],
   "source": [
    "int(math.sqrt(x))"
   ]
  },
  {
   "cell_type": "code",
   "execution_count": 81,
   "id": "8c4e1a50-5b59-48a3-ad04-e4d6d98865fa",
   "metadata": {},
   "outputs": [],
   "source": [
    "def devisor(num):\n",
    "    d=[]\n",
    "    x=int(math.sqrt(num))\n",
    "    for i in range(1,x+1):\n",
    "        if num%i==0:\n",
    "            d.append(i)\n",
    "        if i!=num//i:\n",
    "            d.append(num//i)\n",
    "    return sorted(d)       "
   ]
  },
  {
   "cell_type": "code",
   "execution_count": 82,
   "id": "dceb85e2-52ab-4066-a500-2776ca6dadc3",
   "metadata": {},
   "outputs": [
    {
     "data": {
      "text/plain": [
       "[1, 2, 4, 8]"
      ]
     },
     "execution_count": 82,
     "metadata": {},
     "output_type": "execute_result"
    }
   ],
   "source": [
    "devisor(8)"
   ]
  },
  {
   "cell_type": "code",
   "execution_count": null,
   "id": "791fb3e0-076a-4b0b-808f-19c6c45a334f",
   "metadata": {},
   "outputs": [],
   "source": []
  }
 ],
 "metadata": {
  "kernelspec": {
   "display_name": "Python 3 (ipykernel)",
   "language": "python",
   "name": "python3"
  },
  "language_info": {
   "codemirror_mode": {
    "name": "ipython",
    "version": 3
   },
   "file_extension": ".py",
   "mimetype": "text/x-python",
   "name": "python",
   "nbconvert_exporter": "python",
   "pygments_lexer": "ipython3",
   "version": "3.12.4"
  }
 },
 "nbformat": 4,
 "nbformat_minor": 5
}
